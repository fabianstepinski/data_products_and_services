{
 "cells": [
  {
   "cell_type": "markdown",
   "metadata": {},
   "source": [
    "process footprint solver"
   ]
  },
  {
   "cell_type": "code",
   "execution_count": 44,
   "metadata": {},
   "outputs": [],
   "source": [
    "#define the event log\n",
    "event_log = [\"acbd\", \"abcd\"]"
   ]
  },
  {
   "cell_type": "code",
   "execution_count": 45,
   "metadata": {},
   "outputs": [],
   "source": [
    "#helper functions\n",
    "\n",
    "def _succession_relationship_lister(event_log):\n",
    "    \"returns a list with the succession relationships\"\n",
    "    result = []\n",
    "    for trace in event_log:\n",
    "        for event in range(len(trace)):\n",
    "            if event < len(trace) - 1:\n",
    "                current_succession = f\"{trace[event]}{trace[event + 1]}\"\n",
    "                result.append(current_succession)\n",
    "    return result         \n",
    "\n",
    "def _uniquer(event_log):\n",
    "    \"\"\"gets the unique events from all the traces \"\"\"\n",
    "    result = []\n",
    "    for trace in event_log:\n",
    "        for event in trace:\n",
    "            if event not in result:\n",
    "                result.append(event)\n",
    "    return result\n",
    "\n",
    "def _  \n",
    "\n",
    "def _solution_printer(event_log):\n",
    "    \"\"\"helper: prints the solution out\"\"\"\n",
    "    result = []\n",
    "\n",
    "    #header of the solution\n",
    "    header = \"   |\"\n",
    "    for event in range(len(event_log)):\n",
    "        header += f\" {event_log[event]} |\"\n",
    "    result.append(header)\n",
    "\n",
    "    #lines of the solution\n",
    "    for event in range(len(event_log)):\n",
    "        current_line = f\" {event_log[event]} |\"\n",
    "        for i in range(len(event_log)):\n",
    "            current_line += \"   |\"\n",
    "        result.append(current_line)\n",
    "\n",
    "    #print solution\n",
    "    for line in result:\n",
    "        print(line)    \n",
    "    return    "
   ]
  },
  {
   "cell_type": "code",
   "execution_count": 46,
   "metadata": {},
   "outputs": [
    {
     "name": "stdout",
     "output_type": "stream",
     "text": [
      "   | a | c | 0 | b | d |\n",
      " a |   |   |   |   |   |\n",
      " c |   |   |   |   |   |\n",
      " 0 |   |   |   |   |   |\n",
      " b |   |   |   |   |   |\n",
      " d |   |   |   |   |   |\n",
      "['ac00000bd', 'abcd']\n",
      "['ac', 'c0', '00', '00', '00', '00', '0b', 'bd', 'ab', 'bc', 'cd']\n"
     ]
    }
   ],
   "source": [
    "_solution_printer(_uniquer(event_log))\n",
    "\n",
    "print(event_log)\n",
    "print(_succession_relationship_lister(event_log))\n"
   ]
  }
 ],
 "metadata": {
  "kernelspec": {
   "display_name": "Python 3",
   "language": "python",
   "name": "python3"
  },
  "language_info": {
   "codemirror_mode": {
    "name": "ipython",
    "version": 3
   },
   "file_extension": ".py",
   "mimetype": "text/x-python",
   "name": "python",
   "nbconvert_exporter": "python",
   "pygments_lexer": "ipython3",
   "version": "3.11.3"
  }
 },
 "nbformat": 4,
 "nbformat_minor": 2
}
