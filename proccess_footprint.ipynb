{
 "cells": [
  {
   "cell_type": "markdown",
   "metadata": {},
   "source": [
    "process footprint solver"
   ]
  },
  {
   "cell_type": "code",
   "execution_count": 6,
   "metadata": {},
   "outputs": [],
   "source": [
    "#define the event log\n",
    "event_log = [[\"a\", \"b\", \"c\", \"d\", \"e\"],\n",
    "             [\"a\", \"c\", \"b\", \"d\", \"f\"],\n",
    "             [\"a\", \"b\", \"c\", \"d\", \"f\"],\n",
    "             [\"a\", \"c\", \"b\", \"d\", \"e\"]]"
   ]
  },
  {
   "cell_type": "code",
   "execution_count": 7,
   "metadata": {},
   "outputs": [],
   "source": [
    "#helper functions\n",
    "\n",
    "def _uniquer(event_log):\n",
    "    \"\"\"gets the unique events from all the traces \"\"\"\n",
    "    result = []\n",
    "    for trace in event_log:\n",
    "        for activity in trace:\n",
    "            if activity not in result:\n",
    "                result.append(activity)\n",
    "    return result\n",
    "\n",
    "def _solution_printer(event_log):\n",
    "    \"\"\"helper: prints the solution out\"\"\"\n",
    "    unique_events = _uniquer(event_log)\n",
    "    result = []\n",
    "    #header of the solution\n",
    "    header = \"   |\"\n",
    "    for event in range(len(unique_events)):\n",
    "        header += f\" {unique_events[event]} |\"\n",
    "    result.append(header)\n",
    "    #lines of the solution\n",
    "    for event in range(len(unique_events)):\n",
    "        current_line = f\" {unique_events[event]} |\"\n",
    "        for i in range(len(unique_events)):\n",
    "            current_line += \"   |\"\n",
    "        result.append(current_line)\n",
    "    #print solution\n",
    "    for line in result:\n",
    "        print(line)    \n",
    "    return\n",
    "\n",
    "def _succession_lister(event_log):\n",
    "    \"returns a list with the succession relationships\"\n",
    "    result = []\n",
    "    for trace in event_log:\n",
    "        for event in range(len(trace)):\n",
    "            if event < len(trace) - 1:\n",
    "                current_succession = f\"{trace[event]}{trace[event + 1]}\"\n",
    "                if current_succession not in result:\n",
    "                    result.append(current_succession)\n",
    "    return result     \n",
    "\n",
    "def _succession_dictioner(event_log):\n",
    "    succession_relationships = _succession_lister(event_log)\n",
    "    unique_events = _uniquer(event_log)\n",
    "    result = {}\n",
    "    for event in unique_events:\n",
    "        current_succeded_events = []\n",
    "        for succession in succession_relationships:\n",
    "            if event in succession and succession[1] not in current_succeded_events and succession[1] != event:\n",
    "                current_succeded_events.append(succession[1])\n",
    "        result[event] = current_succeded_events\n",
    "    return result\n",
    "\n",
    "def process_footprint(event_log):\n",
    "    successions = _succession_dictioner(event_log)\n",
    "    for event in successions:\n",
    "        \n",
    "    return\n",
    "\n"
   ]
  },
  {
   "cell_type": "markdown",
   "metadata": {},
   "source": [
    "### testing"
   ]
  },
  {
   "cell_type": "code",
   "execution_count": 8,
   "metadata": {},
   "outputs": [
    {
     "name": "stdout",
     "output_type": "stream",
     "text": [
      "   | a | b | c | d | e | f |\n",
      " a |   |   |   |   |   |   |\n",
      " b |   |   |   |   |   |   |\n",
      " c |   |   |   |   |   |   |\n",
      " d |   |   |   |   |   |   |\n",
      " e |   |   |   |   |   |   |\n",
      " f |   |   |   |   |   |   |\n"
     ]
    }
   ],
   "source": [
    "_solution_printer(event_log)\n"
   ]
  },
  {
   "cell_type": "code",
   "execution_count": 9,
   "metadata": {},
   "outputs": [
    {
     "name": "stdout",
     "output_type": "stream",
     "text": [
      "event log: [['a', 'b', 'c', 'd', 'e'], ['a', 'c', 'b', 'd', 'f'], ['a', 'b', 'c', 'd', 'f'], ['a', 'c', 'b', 'd', 'e']]\n",
      "succession_relationships: ['ab', 'ac', 'bc', 'bd', 'cb', 'cd', 'de', 'df']\n"
     ]
    }
   ],
   "source": [
    "print(f\"event log: {event_log}\")\n",
    "print(f\"succession_relationships: {sorted(_succession_lister(event_log))}\")"
   ]
  },
  {
   "cell_type": "code",
   "execution_count": 10,
   "metadata": {},
   "outputs": [
    {
     "name": "stdout",
     "output_type": "stream",
     "text": [
      "successions\n",
      "a: ['b', 'c']\n",
      "b: ['c', 'd']\n",
      "c: ['d', 'b']\n",
      "d: ['e', 'f']\n",
      "e: []\n",
      "f: []\n"
     ]
    }
   ],
   "source": [
    "print(\"successions\")\n",
    "for i in _uniquer(event_log):\n",
    "    print(i + \": \" + str(_succession_dictioner(event_log)[i]))"
   ]
  }
 ],
 "metadata": {
  "kernelspec": {
   "display_name": "Python 3",
   "language": "python",
   "name": "python3"
  },
  "language_info": {
   "codemirror_mode": {
    "name": "ipython",
    "version": 3
   },
   "file_extension": ".py",
   "mimetype": "text/x-python",
   "name": "python",
   "nbconvert_exporter": "python",
   "pygments_lexer": "ipython3",
   "version": "3.11.3"
  }
 },
 "nbformat": 4,
 "nbformat_minor": 2
}
