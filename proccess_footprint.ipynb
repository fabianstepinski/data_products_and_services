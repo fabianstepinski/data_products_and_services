{
 "cells": [
  {
   "cell_type": "markdown",
   "metadata": {},
   "source": [
    "process footprint solver"
   ]
  },
  {
   "cell_type": "code",
   "execution_count": 62,
   "metadata": {},
   "outputs": [],
   "source": [
    "#define the event log\n",
    "event_log = [[\"a\", \"b\", \"c\", \"d\", \"e\"],\n",
    "             [\"a\", \"c\", \"b\", \"d\", \"f\"],\n",
    "             [\"a\", \"b\", \"c\", \"d\", \"f\"],\n",
    "             [\"a\", \"c\", \"b\", \"d\", \"e\"]]"
   ]
  },
  {
   "cell_type": "code",
   "execution_count": 63,
   "metadata": {},
   "outputs": [],
   "source": [
    "#helper functions\n",
    "\n",
    "def _uniquer(event_log):\n",
    "    \"\"\"gets the unique acitivities from all the traces \"\"\"\n",
    "    result = []\n",
    "    for trace in event_log:\n",
    "        for event in trace:\n",
    "            if event not in result:\n",
    "                result.append(event)\n",
    "    return result\n",
    "\n",
    "def _succession_lister(event_log):\n",
    "    \"returns a list with the succession relationships\"\n",
    "    result = []\n",
    "    for trace in event_log:\n",
    "        for event in range(len(trace)):\n",
    "            if event < len(trace) - 1:\n",
    "                current_succession = [trace[event], trace[event + 1]]\n",
    "                if current_succession not in result:\n",
    "                    result.append(current_succession)\n",
    "    return result     \n",
    "\n",
    "def _succession_dictioner(event_log):\n",
    "    succession_relationships = _succession_lister(event_log)\n",
    "    unique_events = _uniquer(event_log)\n",
    "    result = {}\n",
    "    for event in unique_events:\n",
    "        current_succeded_events = []\n",
    "        for succession in succession_relationships:\n",
    "            if event in succession and succession[1] not in current_succeded_events and succession[1] != event:\n",
    "                current_succeded_events.append(succession[1])\n",
    "        result[event] = current_succeded_events\n",
    "    return result\n",
    "\n",
    "def process_footprint(event_log):\n",
    "    successions = _succession_dictioner(event_log)\n",
    "    for event in successions:\n",
    "        print(l)\n",
    "    return\n",
    "\n"
   ]
  },
  {
   "cell_type": "markdown",
   "metadata": {},
   "source": [
    "### testing"
   ]
  },
  {
   "cell_type": "code",
   "execution_count": 64,
   "metadata": {},
   "outputs": [
    {
     "name": "stdout",
     "output_type": "stream",
     "text": [
      "event log: [['a', 'b', 'c', 'd', 'e'], ['a', 'c', 'b', 'd', 'f'], ['a', 'b', 'c', 'd', 'f'], ['a', 'c', 'b', 'd', 'e']]\n",
      "succession_relationships: [['a', 'b'], ['a', 'c'], ['b', 'c'], ['b', 'd'], ['c', 'b'], ['c', 'd'], ['d', 'e'], ['d', 'f']]\n"
     ]
    }
   ],
   "source": [
    "print(f\"event log: {event_log}\")\n",
    "print(f\"succession_relationships: {sorted(_succession_lister(event_log))}\")"
   ]
  },
  {
   "cell_type": "code",
   "execution_count": 65,
   "metadata": {},
   "outputs": [
    {
     "name": "stdout",
     "output_type": "stream",
     "text": [
      "successions\n",
      "a: ['b', 'c']\n",
      "b: ['c', 'd']\n",
      "c: ['d', 'b']\n",
      "d: ['e', 'f']\n",
      "e: []\n",
      "f: []\n"
     ]
    }
   ],
   "source": [
    "print(\"successions\")\n",
    "for i in _uniquer(event_log):\n",
    "    print(i + \": \" + str(_succession_dictioner(event_log)[i]))"
   ]
  },
  {
   "cell_type": "code",
   "execution_count": 66,
   "metadata": {},
   "outputs": [],
   "source": [
    "def _proccess_footprint_solver(event_log):\n",
    "    unique_events = _uniquer(event_log)\n",
    "    successions = _succession_lister(event_log)\n",
    "    result = []\n",
    "    for succession in successions:\n",
    "        reverse_succession = f\"{succession[1]}{succession[0]}\"\n",
    "        if succession in successions and reverse_succession in successions:\n",
    "            result.append([succession[0], succession[1], \"||\"])\n",
    "            result.append([succession[1], succession[0], \"||\"])\n",
    "        else:\n",
    "            result.append([succession[0], succession[1], \"->\"])\n",
    "            result.append([succession[1], succession[0], \"<-\"])\n",
    "    return result\n"
   ]
  },
  {
   "cell_type": "code",
   "execution_count": 67,
   "metadata": {},
   "outputs": [
    {
     "data": {
      "text/plain": [
       "[['a', 'b', '->'],\n",
       " ['b', 'a', '<-'],\n",
       " ['b', 'c', '->'],\n",
       " ['c', 'b', '<-'],\n",
       " ['c', 'd', '->'],\n",
       " ['d', 'c', '<-'],\n",
       " ['d', 'e', '->'],\n",
       " ['e', 'd', '<-'],\n",
       " ['a', 'c', '->'],\n",
       " ['c', 'a', '<-'],\n",
       " ['c', 'b', '->'],\n",
       " ['b', 'c', '<-'],\n",
       " ['b', 'd', '->'],\n",
       " ['d', 'b', '<-'],\n",
       " ['d', 'f', '->'],\n",
       " ['f', 'd', '<-']]"
      ]
     },
     "execution_count": 67,
     "metadata": {},
     "output_type": "execute_result"
    }
   ],
   "source": [
    "_proccess_footprint_solver(event_log)"
   ]
  }
 ],
 "metadata": {
  "kernelspec": {
   "display_name": "Python 3",
   "language": "python",
   "name": "python3"
  },
  "language_info": {
   "codemirror_mode": {
    "name": "ipython",
    "version": 3
   },
   "file_extension": ".py",
   "mimetype": "text/x-python",
   "name": "python",
   "nbconvert_exporter": "python",
   "pygments_lexer": "ipython3",
   "version": "3.11.3"
  }
 },
 "nbformat": 4,
 "nbformat_minor": 2
}
