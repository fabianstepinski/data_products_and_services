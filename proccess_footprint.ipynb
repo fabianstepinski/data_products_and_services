{
 "cells": [
  {
   "cell_type": "markdown",
   "metadata": {},
   "source": [
    "# process footprint solver"
   ]
  },
  {
   "cell_type": "markdown",
   "metadata": {},
   "source": [
    "helper functions"
   ]
  },
  {
   "cell_type": "code",
<<<<<<< HEAD
   "execution_count": 7,
=======
   "execution_count": 31,
>>>>>>> 26387e4e7c37ac0efca68527ba1eb2a410d95ae5
   "metadata": {},
   "outputs": [],
   "source": [
    "def _uniquer(event_log):\n",
    "    \"\"\"gets the unique acitivities from all the traces\"\"\"\n",
    "    result = []\n",
    "    for trace in event_log:\n",
    "        for event in trace:\n",
    "            if event not in result:\n",
    "                result.append(event)\n",
    "    return result\n",
    "\n",
    "def _succession_lister(event_log):\n",
    "    \"\"\"returns a list with the succession relationships\"\"\"\n",
    "    result = []\n",
    "    for trace in event_log:\n",
    "        for event in range(len(trace)):\n",
    "            if event < len(trace) - 1:\n",
    "                current_succession = [trace[event], trace[event + 1]]\n",
    "                if current_succession not in result:\n",
    "                    result.append(current_succession)\n",
    "    return result\n",
    "\n",
    "def _relationship_solver(event_log):\n",
    "    \"\"\"lists out the successions and their relationships\"\"\"\n",
    "    result = []\n",
    "    successions = _succession_lister(event_log)\n",
    "    unique_events_x = _uniquer(event_log)\n",
    "    unique_events_y = _uniquer(event_log)\n",
    "    for succession in successions:\n",
    "        reverse_succession = [succession[1], succession[0]]\n",
    "        if reverse_succession in successions:\n",
    "            result.append([succession[0], \"||\", succession[1]])\n",
    "            #result.append([succession[1], \"||\", succession[0]])\n",
    "        else:\n",
<<<<<<< HEAD
    "            result.append([succession[0], \"->\", succession[1]])\n",
    "            #result.append([succession[1], \"<-\", succession[0]])\n",
=======
    "            result.append([succession[0], \"->\",succession[1]])\n",
    "            result.append([succession[1], \"<-\",succession[0]])\n",
>>>>>>> 26387e4e7c37ac0efca68527ba1eb2a410d95ae5
    "    for event_x in unique_events_x:\n",
    "        for event_y in unique_events_y:\n",
    "            if [event_x, event_y] not in successions:\n",
    "                result.append([event_x, \"##\", event_y])\n",
    "    return result"
   ]
  },
  {
   "cell_type": "code",
<<<<<<< HEAD
   "execution_count": 8,
=======
   "execution_count": 32,
>>>>>>> 26387e4e7c37ac0efca68527ba1eb2a410d95ae5
   "metadata": {},
   "outputs": [],
   "source": [
    "def proccess_footprint_solver(event_log):\n",
    "    relationships = _relationship_solver(event_log)\n",
    "    unique_events_x = _uniquer(event_log)\n",
    "    unique_events_y = _uniquer(event_log)\n",
    "    header = []\n",
    "    for event_x in unique_events_x:\n",
    "        header.append(f\"{event_x} \") \n",
    "    header.insert(0, \"-\")\n",
    "    print(header)\n",
    "    for event_y in unique_events_y:\n",
    "        current_line = [event_y]\n",
    "        for event_x in unique_events_x:\n",
    "            for relationship in relationships:\n",
    "                if [relationship[0], relationship[2]] == [event_y, event_x]:\n",
    "                    current_line.append(relationship[1])\n",
    "        print(current_line)"
   ]
  },
  {
   "cell_type": "markdown",
   "metadata": {},
   "source": [
    "testing"
   ]
  },
  {
   "cell_type": "code",
<<<<<<< HEAD
   "execution_count": 9,
=======
   "execution_count": 33,
>>>>>>> 26387e4e7c37ac0efca68527ba1eb2a410d95ae5
   "metadata": {},
   "outputs": [],
   "source": [
    "#event_log = [[\"a\", \"b\", \"c\", \"d\", \"e\"], [\"a\", \"c\", \"b\", \"d\", \"f\"], [\"a\", \"b\", \"c\", \"d\", \"f\"], [\"a\", \"c\", \"b\", \"d\", \"e\"]]\n",
    "#event_log = [[\"a\", \"b\", \"c\", \"d\", \"e\"], [\"a\", \"c\", \"b\", \"d\", \"f\"], [\"a\", \"b\", \"c\", \"d\", \"f\"], [\"a\", \"c\", \"b\", \"d\", \"e\"]]\n",
    "event_log = [[\"a\", \"b\", \"e\", \"f\"], [\"a\", \"b\", \"e\", \"c\", \"d\", \"b\", \"f\"], [\"a\", \"b\", \"c\", \"e\", \"d\", \"b\", \"f\"], [\"a\", \"b\", \"c\", \"d\", \"e\", \"b\", \"f\"], [\"a\", \"e\", \"b\", \"c\", \"d\", \"b\", \"f\"]]"
   ]
  },
  {
   "cell_type": "code",
<<<<<<< HEAD
   "execution_count": 10,
=======
   "execution_count": 34,
>>>>>>> 26387e4e7c37ac0efca68527ba1eb2a410d95ae5
   "metadata": {},
   "outputs": [
    {
     "name": "stdout",
     "output_type": "stream",
     "text": [
<<<<<<< HEAD
      "event log: [['a', 'b', 'e', 'f'], ['a', 'b', 'e', 'c', 'd', 'b', 'f'], ['a', 'b', 'c', 'e', 'd', 'b', 'f'], ['a', 'b', 'c', 'd', 'e', 'b', 'f'], ['a', 'e', 'b', 'c', 'd', 'b', 'f']]\n",
      "succession relationships: [['a', 'b'], ['a', 'e'], ['b', 'c'], ['b', 'e'], ['b', 'f'], ['c', 'd'], ['c', 'e'], ['d', 'b'], ['d', 'e'], ['e', 'b'], ['e', 'c'], ['e', 'd'], ['e', 'f']]\n",
      "amount or relationships: 36\n"
=======
      "event log: [['a', 'b', 'c', 'd', 'e'], ['a', 'c', 'b', 'd', 'f'], ['a', 'b', 'c', 'd', 'f'], ['a', 'c', 'b', 'd', 'e']]\n",
      "succession relationships: [['a', 'b'], ['a', 'c'], ['b', 'c'], ['b', 'd'], ['c', 'b'], ['c', 'd'], ['d', 'e'], ['d', 'f']]\n",
      "amount or relationships: 42\n"
>>>>>>> 26387e4e7c37ac0efca68527ba1eb2a410d95ae5
     ]
    }
   ],
   "source": [
    "print(f\"event log: {event_log}\")\n",
    "print(f\"succession relationships: {sorted(_succession_lister(event_log))}\")\n",
    "print(f\"amount or relationships: {len(_relationship_solver(event_log))}\")"
   ]
  },
  {
   "cell_type": "code",
<<<<<<< HEAD
   "execution_count": 11,
=======
   "execution_count": 35,
>>>>>>> 26387e4e7c37ac0efca68527ba1eb2a410d95ae5
   "metadata": {},
   "outputs": [
    {
     "data": {
      "text/plain": [
       "42"
      ]
     },
<<<<<<< HEAD
     "execution_count": 11,
=======
     "execution_count": 35,
>>>>>>> 26387e4e7c37ac0efca68527ba1eb2a410d95ae5
     "metadata": {},
     "output_type": "execute_result"
    }
   ],
   "source": [
    "len(_relationship_solver(event_log))\n"
   ]
  },
  {
   "cell_type": "code",
<<<<<<< HEAD
   "execution_count": 12,
=======
   "execution_count": 36,
>>>>>>> 26387e4e7c37ac0efca68527ba1eb2a410d95ae5
   "metadata": {},
   "outputs": [
    {
     "name": "stdout",
     "output_type": "stream",
     "text": [
      "['-', 'a ', 'b ', 'e ', 'f ', 'c ', 'd ']\n",
      "['a', '##', '->', '->', '##', '##', '##']\n",
<<<<<<< HEAD
      "['b', '##', '##', '||', '->', '->', '##']\n",
      "['e', '##', '||', '##', '->', '||', '||']\n",
      "['f', '##', '##', '##', '##', '##', '##']\n",
      "['c', '##', '##', '||', '##', '##', '->']\n",
      "['d', '##', '->', '||', '##', '##', '##']\n"
=======
      "['b', '<-', '##', '##', '||', '->', '##', '##']\n",
      "['c', '<-', '##', '||', '##', '->', '##', '##']\n",
      "['d', '##', '<-', '##', '<-', '##', '##', '->', '->']\n",
      "['e', '##', '##', '##', '<-', '##', '##', '##']\n",
      "['f', '##', '##', '##', '<-', '##', '##', '##']\n"
>>>>>>> 26387e4e7c37ac0efca68527ba1eb2a410d95ae5
     ]
    }
   ],
   "source": [
    "proccess_footprint_solver(event_log)"
   ]
  }
 ],
 "metadata": {
  "kernelspec": {
   "display_name": "Python 3",
   "language": "python",
   "name": "python3"
  },
  "language_info": {
   "codemirror_mode": {
    "name": "ipython",
    "version": 3
   },
   "file_extension": ".py",
   "mimetype": "text/x-python",
   "name": "python",
   "nbconvert_exporter": "python",
   "pygments_lexer": "ipython3",
   "version": "3.11.1"
  }
 },
 "nbformat": 4,
 "nbformat_minor": 2
}
