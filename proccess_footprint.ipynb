{
 "cells": [
  {
   "cell_type": "markdown",
   "metadata": {},
   "source": [
    "process footprint solver"
   ]
  },
  {
   "cell_type": "code",
   "execution_count": 33,
   "metadata": {},
   "outputs": [],
   "source": [
    "#define the event log\n",
    "event_log = [\"abcd\", \"acbd\", \"aed\"]"
   ]
  },
  {
   "cell_type": "code",
   "execution_count": 34,
   "metadata": {},
   "outputs": [],
   "source": [
    "#helper functions\n",
    "\n",
    "def _succession_relationship_lister(event_log):\n",
    "    \"returns a list with the succession relationships\"\n",
    "    result = []\n",
    "    for trace in event_log:\n",
    "        for event in range(len(trace)):\n",
    "            if event < len(trace) - 1:\n",
    "                current_succession = f\"{trace[event]}{trace[event + 1]}\"\n",
    "                result.append(current_succession)\n",
    "    return result         \n",
    "\n",
    "def _uniquer(event_log):\n",
    "    \"\"\"gets the unique events from all the traces \"\"\"\n",
    "    result = []\n",
    "    for trace in event_log:\n",
    "        for event in trace:\n",
    "            if event not in result:\n",
    "                result.append(event)\n",
    "    return result\n",
    "\n",
    "def _footprint_solver(succession_relationships, unique_events):\n",
    "    result = []\n",
    "    for event in unique_events:\n",
    "        current_succeded_events = []\n",
    "        for succession in succession_relationships:\n",
    "            if event in succession and succession[1] not in current_succeded_events and succession[1] != event:\n",
    "                current_succeded_events.append(succession[1])\n",
    "        print(f\"{event}: {current_succeded_events}\")        \n",
    "    return  \n",
    "\n",
    "def _solution_printer(unique_events):\n",
    "    \"\"\"helper: prints the solution out\"\"\"\n",
    "    result = []\n",
    "    #header of the solution\n",
    "    header = \"   |\"\n",
    "    for event in range(len(unique_events)):\n",
    "        header += f\" {unique_events[event]} |\"\n",
    "    result.append(header)\n",
    "    #lines of the solution\n",
    "    for event in range(len(unique_events)):\n",
    "        current_line = f\" {unique_events[event]} |\"\n",
    "        for i in range(len(unique_events)):\n",
    "            current_line += \"   |\"\n",
    "        result.append(current_line)\n",
    "    #print solution\n",
    "    for line in result:\n",
    "        print(line)    \n",
    "    return    "
   ]
  },
  {
   "cell_type": "markdown",
   "metadata": {},
   "source": [
    "### testing"
   ]
  },
  {
   "cell_type": "code",
   "execution_count": 35,
   "metadata": {},
   "outputs": [
    {
     "name": "stdout",
     "output_type": "stream",
     "text": [
      "   | a | b | c | d | e |\n",
      " a |   |   |   |   |   |\n",
      " b |   |   |   |   |   |\n",
      " c |   |   |   |   |   |\n",
      " d |   |   |   |   |   |\n",
      " e |   |   |   |   |   |\n"
     ]
    }
   ],
   "source": [
    "_solution_printer(_uniquer(event_log))\n"
   ]
  },
  {
   "cell_type": "code",
   "execution_count": 36,
   "metadata": {},
   "outputs": [
    {
     "name": "stdout",
     "output_type": "stream",
     "text": [
      "event log: ['abcd', 'acbd', 'aed']\n",
      "succession_relationships: ['ab', 'ac', 'ae', 'bc', 'bd', 'cb', 'cd', 'ed']\n"
     ]
    }
   ],
   "source": [
    "print(f\"event log: {event_log}\")\n",
    "print(f\"succession_relationships: {sorted(_succession_relationship_lister(event_log))}\")"
   ]
  },
  {
   "cell_type": "code",
   "execution_count": 37,
   "metadata": {},
   "outputs": [
    {
     "name": "stdout",
     "output_type": "stream",
     "text": [
      "successions\n",
      "a: ['b', 'c', 'e']\n",
      "b: ['c', 'd']\n",
      "c: ['d', 'b']\n",
      "d: []\n",
      "e: ['d']\n"
     ]
    }
   ],
   "source": [
    "print(\"successions\")\n",
    "_footprint_solver(_succession_relationship_lister(event_log), _uniquer(event_log))"
   ]
  }
 ],
 "metadata": {
  "kernelspec": {
   "display_name": "Python 3",
   "language": "python",
   "name": "python3"
  },
  "language_info": {
   "codemirror_mode": {
    "name": "ipython",
    "version": 3
   },
   "file_extension": ".py",
   "mimetype": "text/x-python",
   "name": "python",
   "nbconvert_exporter": "python",
   "pygments_lexer": "ipython3",
   "version": "3.11.3"
  }
 },
 "nbformat": 4,
 "nbformat_minor": 2
}
