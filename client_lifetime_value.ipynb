{
 "cells": [
  {
   "cell_type": "code",
   "execution_count": 26,
   "metadata": {},
   "outputs": [],
   "source": [
    "def clv_base(T, i, m):\n",
    "    \"\"\"Base CLV model: Defined time horizon\"\"\"\n",
    "    result = 0\n",
    "    for t in range(T):\n",
    "        current_m = m[t]\n",
    "        current_discount = 1 / (1 + i)**(t + 1) #raised to t + 1 to circumvent the 0 indexing\n",
    "        result += current_m * current_discount\n",
    "    return result\n",
    "\n",
    "def clv_on_off(m, i, r):\n",
    "    \"\"\"On-off CLV model: Infinite time horizon\"\"\"\n",
    "    discount = r / (1 + i - r)\n",
    "    return m * discount\n",
    "\n",
    "def p_act(t, T_acq, T_p, n):\n",
    "    \"\"\"Calculates the purchase probability of a customer\"\"\"\n",
    "    top = T_p - T_acq\n",
    "    bottom = t - T_acq\n",
    "    return (top / bottom)**n\n",
    "\n",
    "def clv_rec_freq(i, T, m, T_acq, T_p, n):\n",
    "    \"\"\"Calculates the CLV with recency and frequency effect\"\"\"\n",
    "    result = 0\n",
    "    for t in range(T):\n",
    "        discount = m / (1 + i)**(t + 1) #raised to t + 1 to circumvent the 0 indexing\n",
    "        result += p_act(t + 1, T_acq, T_p, n) * discount\n",
    "    return result"
   ]
  },
  {
   "cell_type": "code",
   "execution_count": 27,
   "metadata": {},
   "outputs": [
    {
     "name": "stdout",
     "output_type": "stream",
     "text": [
      "13.808493225027133\n",
      "20.470588235294112\n",
      "0.07855509392847308\n",
      "14.56929454207649\n"
     ]
    }
   ],
   "source": [
    "T = 4\n",
    "m = [6, 3, 4, 2]\n",
    "i = 0.04\n",
    "\n",
    "print(clv_base(T, i, m))\n",
    "print(clv_on_off(4, i, 0.87))\n",
    "print(p_act(5, -12, -3, 4))\n",
    "print(clv_rec_freq(0.05, 3, 30, -12, -3, 4))"
   ]
  }
 ],
 "metadata": {
  "kernelspec": {
   "display_name": "Python 3",
   "language": "python",
   "name": "python3"
  },
  "language_info": {
   "codemirror_mode": {
    "name": "ipython",
    "version": 3
   },
   "file_extension": ".py",
   "mimetype": "text/x-python",
   "name": "python",
   "nbconvert_exporter": "python",
   "pygments_lexer": "ipython3",
   "version": "3.11.3"
  }
 },
 "nbformat": 4,
 "nbformat_minor": 2
}
