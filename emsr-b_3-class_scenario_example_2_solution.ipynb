{
 "cells": [
  {
   "cell_type": "code",
   "execution_count": 1,
   "metadata": {},
   "outputs": [],
   "source": [
    "from scipy.stats import norm  \n",
    "\n",
    "C = 100\n",
    "\n",
    "#1 class\n",
    "r_1 = 1050\n",
    "mu_1 = 17.3\n",
    "sigma_1 = 5.8\n",
    "\n",
    "#2 class\n",
    "r_2 = 950\n",
    "mu_2 = 45.1\n",
    "sigma_2 = 15\n",
    "\n",
    "#3 class\n",
    "r_3 = 699\n",
    "mu_3 = 39.6\n",
    "sigma_3 = 13.2"
   ]
  },
  {
   "cell_type": "code",
   "execution_count": 2,
   "metadata": {},
   "outputs": [
    {
     "name": "stdout",
     "output_type": "stream",
     "text": [
      "r_bar_2: 977.7243589743589\n",
      "mu_bar_2: 62.400000000000006\n",
      "sigma_bar_2: 16.0822883943797\n"
     ]
    }
   ],
   "source": [
    "#2 class calculations\n",
    "r_bar_2 = (r_2 * mu_2 + r_1 * mu_1) / (mu_2 + mu_1)\n",
    "mu_bar_2 = mu_2 + mu_1\n",
    "sigma_bar_2 = (sigma_2**2 + sigma_1**2)**0.5\n",
    "\n",
    "print(f\"r_bar_2: {r_bar_2}\")\n",
    "print(f\"mu_bar_2: {mu_bar_2}\")\n",
    "print(f\"sigma_bar_2: {sigma_bar_2}\")"
   ]
  },
  {
   "cell_type": "code",
   "execution_count": 3,
   "metadata": {},
   "outputs": [
    {
     "name": "stdout",
     "output_type": "stream",
     "text": [
      "G_2: 53.267964550034094\n",
      "B_3: 46.732035449965906\n"
     ]
    }
   ],
   "source": [
    "#G_2 & B_3 calculation\n",
    "z_score_input_G_2 = 1 - r_3/r_bar_2\n",
    "z_score_G_2 = norm.ppf(z_score_input_G_2)\n",
    "G_2 = mu_bar_2 + sigma_bar_2 * z_score_G_2\n",
    "B_3 = C - G_2\n",
    "\n",
    "print(f\"G_2: {G_2}\")\n",
    "print(f\"B_3: {B_3}\")"
   ]
  },
  {
   "cell_type": "code",
   "execution_count": 30,
   "metadata": {},
   "outputs": [
    {
     "name": "stdout",
     "output_type": "stream",
     "text": [
      "r_bar_3: 80.55555555555556\n",
      "mu_bar_3: 180\n",
      "sigma_bar_3: 30.0\n"
     ]
    }
   ],
   "source": [
    "#3 class calculations\n",
    "r_bar_3 = (r_3 * mu_3 + r_2 * mu_2 + r_1 * mu_1) / (mu_3 + mu_2 + mu_1)\n",
    "mu_bar_3 = mu_3 + mu_2 + mu_1\n",
    "sigma_bar_3 = (sigma_3**2 + sigma_2**2 + sigma_1**2)**0.5\n",
    "\n",
    "print(f\"r_bar_3: {r_bar_3}\")\n",
    "print(f\"mu_bar_3: {mu_bar_3}\")\n",
    "print(f\"sigma_bar_3: {sigma_bar_3}\")"
   ]
  },
  {
   "cell_type": "code",
   "execution_count": 35,
   "metadata": {},
   "outputs": [
    {
     "name": "stdout",
     "output_type": "stream",
     "text": [
      "G_1: 25.692727007045427\n",
      "B_2: 74.30727299295458\n"
     ]
    }
   ],
   "source": [
    "#G_1 & B_2 calculations\n",
    "z_score_input_G_1 = 1 - r_2/r_1\n",
    "z_score_G_1 = norm.ppf(z_score_input_G_1)\n",
    "G_1 = mu_1 + sigma_1 * z_score_G_1\n",
    "B_2 = C - G_1\n",
    "\n",
    "print(f\"G_1: {G_1}\")\n",
    "print(f\"B_2: {B_2}\")"
   ]
  },
  {
   "cell_type": "code",
   "execution_count": 4,
   "metadata": {},
   "outputs": [
    {
     "name": "stdout",
     "output_type": "stream",
     "text": [
      "B_1: 100\n"
     ]
    }
   ],
   "source": [
    "#B_1 calculation\n",
    "B_1 = C\n",
    "\n",
    "print(f\"B_1: {B_1}\")"
   ]
  }
 ],
 "metadata": {
  "kernelspec": {
   "display_name": "Python 3",
   "language": "python",
   "name": "python3"
  },
  "language_info": {
   "codemirror_mode": {
    "name": "ipython",
    "version": 3
   },
   "file_extension": ".py",
   "mimetype": "text/x-python",
   "name": "python",
   "nbconvert_exporter": "python",
   "pygments_lexer": "ipython3",
   "version": "3.11.3"
  }
 },
 "nbformat": 4,
 "nbformat_minor": 2
}
