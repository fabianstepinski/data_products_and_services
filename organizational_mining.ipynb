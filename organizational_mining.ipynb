{
 "cells": [
  {
   "cell_type": "code",
   "execution_count": null,
   "metadata": {},
   "outputs": [],
   "source": [
    "import math\n",
    "\n",
    "p_sara = [0,0,0,0,1.5,0.5,0,0]\n",
    "p_sean = [0,0.3333,0,0,0,0,0,0]\n",
    "\n",
    "Clare =\t[0.0,0.0,0.0,3.0,0.0,0.0,1.0,3.0]\n",
    "Jane = [0.0,0.0,0.0,0.0,0.0,2.0,0.0,0.0]\n",
    "John = [6.0,0.0,6.0,0.0,0.0,0.0,0.0,0.0]\n",
    "Mona = [0.0,0.0,0.0,0.0,0.0,2.0,0.0,0.0]"
   ]
  },
  {
   "cell_type": "code",
   "execution_count": null,
   "metadata": {},
   "outputs": [],
   "source": [
    "def manhattan_d(p, q):\n",
    "    \"\"\"calculates the manhattan distance between two vectors\"\"\"\n",
    "    if len(p) == len(q):\n",
    "        result = 0\n",
    "        for i in range(len(p)):\n",
    "            current_result = abs(p[i] - q[i])\n",
    "            result += current_result\n",
    "    else:\n",
    "        result = \"ERROR\"\n",
    "    return result\n",
    "\n",
    "def euclidian_d(p, q):\n",
    "    \"\"\"calculates the euclidian distance between two vectors\"\"\"\n",
    "    if len(p) == len(q):\n",
    "        result = 0\n",
    "        for i in range(len(p)):\n",
    "            current_result = (p[i] - q[i])**2\n",
    "            result += current_result\n",
    "        result = math.sqrt(result)\n",
    "    else:\n",
    "        result = \"ERROR\"\n",
    "    return result\n",
    "\n",
    "def pearson_c(p, q):\n",
    "    \"\"\"calculates the pearson correlation coefficient between two vectors\"\"\"\n",
    "    if len(p) == len(q):\n",
    "        p_bar = sum(p) / len(p)\n",
    "        q_bar = sum(q) / len(q)\n",
    "        result_top = 0\n",
    "        result_bottom_p = 0\n",
    "        result_bottom_q = 0\n",
    "        for i in range(len(p)):\n",
    "            current_result = (p[i] - p_bar) * (q[i] - q_bar)\n",
    "            result_top += current_result\n",
    "            current_result_p = (p[i] - p_bar)**2\n",
    "            current_result_q = (q[i] - q_bar)**2\n",
    "            result_bottom_p += current_result_p\n",
    "            result_bottom_q += current_result_q\n",
    "        result = result_top / math.sqrt(result_bottom_p * result_bottom_q)\n",
    "    else:\n",
    "        result = \"ERROR\"\n",
    "    return result"
   ]
  },
  {
   "cell_type": "code",
   "execution_count": null,
   "metadata": {},
   "outputs": [],
   "source": [
    "manhattan_d(p_sean,p_sara)\n",
    "manhattan_d(John, Mona)"
   ]
  },
  {
   "cell_type": "code",
   "execution_count": null,
   "metadata": {},
   "outputs": [],
   "source": []
  }
 ],
 "metadata": {
  "kernelspec": {
   "display_name": "Python 3",
   "language": "python",
   "name": "python3"
  },
  "language_info": {
   "codemirror_mode": {
    "name": "ipython",
    "version": 3
   },
   "file_extension": ".py",
   "mimetype": "text/x-python",
   "name": "python",
   "nbconvert_exporter": "python",
   "pygments_lexer": "ipython3",
   "version": "3.11.3"
  }
 },
 "nbformat": 4,
 "nbformat_minor": 2
}
