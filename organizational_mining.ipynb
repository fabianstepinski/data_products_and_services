{
 "cells": [
  {
   "cell_type": "code",
   "execution_count": 2,
   "metadata": {},
   "outputs": [],
   "source": [
    "p_sara = [0,0,0,0,1.5,0.5,0,0]\n",
    "p_sean = [0,0.3333,0,0,0,0,0,0]\n",
    "\n",
    "Clare =\t[0.0, 0.0, 0.0,\t3.0, 0.0, 0.0, 1.0,\t3.0]\n",
    "Jane = [0.0, 0.0, 0.0, 0.0, 0.0, 2.0, 0.0, 0.0]\n",
    "John = [6.0,\t0.0, 6.0, 0.0, 0.0, 0.0, 0.0, 0.0]\n",
    "Mona = [0.0, 0.0, 0.0, 0.0, 0.0, 2.0, 0.0, 0.0]\n",
    "\n",
    "\n"
   ]
  },
  {
   "cell_type": "code",
   "execution_count": 3,
   "metadata": {},
   "outputs": [],
   "source": [
    "def manhattan_d(p, q):\n",
    "    if len(p) == len(q):\n",
    "        result = 0\n",
    "        for i in range(len(p)):\n",
    "            current_result = abs(p[i] - q[i])\n",
    "            result += current_result\n",
    "    else:\n",
    "        result = \"ERROR\"\n",
    "    return result"
   ]
  },
  {
   "cell_type": "code",
   "execution_count": 11,
   "metadata": {},
   "outputs": [
    {
     "name": "stdout",
     "output_type": "stream",
     "text": [
      "2.3333\n",
      "0.1111111111111111\n",
      "0.05263157894736842\n",
      "0.0\n"
     ]
    }
   ],
   "source": [
    "print(manhattan_d(p_sara, p_sean))\n",
    "\n",
    "print(1/manhattan_d(Clare, Jane))\n",
    "\n",
    "print(1/manhattan_d(Clare, John))\n",
    "\n",
    "print(manhattan_d(Jane, Mona))"
   ]
  },
  {
   "cell_type": "code",
   "execution_count": null,
   "metadata": {},
   "outputs": [],
   "source": []
  }
 ],
 "metadata": {
  "kernelspec": {
   "display_name": "Python 3",
   "language": "python",
   "name": "python3"
  },
  "language_info": {
   "codemirror_mode": {
    "name": "ipython",
    "version": 3
   },
   "file_extension": ".py",
   "mimetype": "text/x-python",
   "name": "python",
   "nbconvert_exporter": "python",
   "pygments_lexer": "ipython3",
   "version": "3.11.3"
  }
 },
 "nbformat": 4,
 "nbformat_minor": 2
}
